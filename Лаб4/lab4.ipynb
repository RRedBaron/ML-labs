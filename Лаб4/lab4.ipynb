{
 "cells": [
  {
   "cell_type": "markdown",
   "id": "9fd8c8ad",
   "metadata": {},
   "source": [
    "# Лабораторна робота №4\n",
    "### Тема: Класифікація методом k найближчих сусідів і набір даних Digits"
   ]
  },
  {
   "cell_type": "code",
   "execution_count": 2,
   "id": "3e1373d7",
   "metadata": {},
   "outputs": [],
   "source": [
    "from sklearn.datasets import load_digits\n",
    "from sklearn.model_selection import train_test_split\n",
    "from sklearn.neighbors import KNeighborsClassifier\n",
    "from sklearn.svm import SVC\n",
    "from sklearn.naive_bayes import GaussianNB\n",
    "from sklearn.metrics import confusion_matrix\n",
    "from sklearn.metrics import classification_report\n",
    "import matplotlib.pyplot as plt"
   ]
  },
  {
   "cell_type": "markdown",
   "id": "c9c74ea0",
   "metadata": {},
   "source": [
    "Імпортуємо вбудований в scikit-learn набір даних digits та візуалізуємо його."
   ]
  },
  {
   "cell_type": "code",
   "execution_count": 3,
   "id": "a5d79678",
   "metadata": {
    "scrolled": false
   },
   "outputs": [],
   "source": [
    "df = load_digits()"
   ]
  },
  {
   "cell_type": "code",
   "execution_count": 6,
   "id": "cbb86f45",
   "metadata": {},
   "outputs": [
    {
     "data": {
      "image/png": "[encoded data removed]",
      "text/plain": [
       "<Figure size 800x600 with 36 Axes>"
      ]
     },
     "metadata": {},
     "output_type": "display_data"
    }
   ],
   "source": [
    "fig, axes = plt.subplots(nrows=6, ncols=6, figsize=(8,6))\n",
    "\n",
    "for ax, image, label in zip(axes.ravel(), df.images, df.target):\n",
    "    ax.imshow(image, cmap=plt.cm.gray_r)\n",
    "    ax.set_xticks([])\n",
    "    ax.set_yticks([])\n",
    "    ax.set_title(label)\n",
    "\n",
    "plt.tight_layout()\n",
    "plt.show()"
   ]
  },
  {
   "cell_type": "markdown",
   "id": "f4b80d94",
   "metadata": {},
   "source": [
    "Розіб'ємо дані для навчання і тестування у співвідношенні 70%:30%"
   ]
  },
  {
   "cell_type": "code",
   "execution_count": 4,
   "id": "560fa67f",
   "metadata": {},
   "outputs": [
    {
     "data": {
      "text/plain": [
       "(1257, 64)"
      ]
     },
     "execution_count": 4,
     "metadata": {},
     "output_type": "execute_result"
    }
   ],
   "source": [
    "X_train, X_test, y_train, y_test = train_test_split(df.data, df.target, test_size=0.3)\n",
    "X_train.shape"
   ]
  },
  {
   "cell_type": "code",
   "execution_count": 5,
   "id": "b3dfd87c",
   "metadata": {},
   "outputs": [
    {
     "data": {
      "text/plain": [
       "(540, 64)"
      ]
     },
     "execution_count": 5,
     "metadata": {},
     "output_type": "execute_result"
    }
   ],
   "source": [
    "X_test.shape"
   ]
  },
  {
   "cell_type": "markdown",
   "id": "fdebcb89",
   "metadata": {},
   "source": [
    "Побудуємо та навчимо модель."
   ]
  },
  {
   "cell_type": "code",
   "execution_count": 6,
   "id": "98353eee",
   "metadata": {},
   "outputs": [
    {
     "data": {
      "text/plain": [
       "KNeighborsClassifier()"
      ]
     },
     "execution_count": 6,
     "metadata": {},
     "output_type": "execute_result"
    }
   ],
   "source": [
    "modelKNN = KNeighborsClassifier()\n",
    "modelKNN.fit(X=X_train, y=y_train)"
   ]
  },
  {
   "cell_type": "markdown",
   "id": "4437fba6",
   "metadata": {},
   "source": [
    "Спрогнозуємо цифри та порівняємо прогнозовані результати з очікуваними для перших 36 зразків."
   ]
  },
  {
   "cell_type": "code",
   "execution_count": 7,
   "id": "9649774b",
   "metadata": {},
   "outputs": [],
   "source": [
    "from warnings import simplefilter\n",
    "\n",
    "# Ігноруємо попередження, пов'язані зі змінами поведінки деяких функцій в бібліотеці scikit-learn\n",
    "simplefilter(action='ignore', category=FutureWarning)\n",
    "\n",
    "predicted = modelKNN.predict(X=X_test)\n",
    "expected = y_test"
   ]
  },
  {
   "cell_type": "code",
   "execution_count": 8,
   "id": "90422332",
   "metadata": {},
   "outputs": [
    {
     "data": {
      "text/plain": [
       "array([2, 4, 5, 4, 0, 3, 1, 2, 8, 5, 2, 5, 4, 3, 1, 1, 3, 8, 5, 0, 7, 7,\n",
       "       1, 4, 3, 4, 3, 0, 9, 1, 6, 6, 4, 7, 4, 3])"
      ]
     },
     "execution_count": 8,
     "metadata": {},
     "output_type": "execute_result"
    }
   ],
   "source": [
    "predicted[:36]"
   ]
  },
  {
   "cell_type": "code",
   "execution_count": 9,
   "id": "21934a67",
   "metadata": {},
   "outputs": [
    {
     "data": {
      "text/plain": [
       "array([2, 4, 5, 4, 0, 3, 1, 2, 8, 5, 2, 5, 4, 3, 1, 1, 3, 8, 5, 0, 7, 7,\n",
       "       1, 4, 3, 4, 3, 0, 9, 1, 6, 6, 4, 7, 4, 3])"
      ]
     },
     "execution_count": 9,
     "metadata": {},
     "output_type": "execute_result"
    }
   ],
   "source": [
    "expected[:36]"
   ]
  },
  {
   "cell_type": "markdown",
   "id": "b0f5f4f2",
   "metadata": {},
   "source": [
    "#### Оцінимо якість моделі."
   ]
  },
  {
   "cell_type": "code",
   "execution_count": 10,
   "id": "a34b93d6",
   "metadata": {},
   "outputs": [
    {
     "name": "stdout",
     "output_type": "stream",
     "text": [
      "Точність моделі: 97.59%\n"
     ]
    }
   ],
   "source": [
    "print(f'Точність моделі: {modelKNN.score(X_test, y_test):.2%}')"
   ]
  },
  {
   "cell_type": "code",
   "execution_count": 11,
   "id": "3a447f14",
   "metadata": {},
   "outputs": [
    {
     "data": {
      "text/plain": [
       "array([[53,  0,  0,  0,  0,  0,  0,  0,  0,  0],\n",
       "       [ 0, 56,  0,  0,  0,  0,  0,  0,  0,  0],\n",
       "       [ 0,  0, 45,  0,  0,  0,  0,  0,  0,  0],\n",
       "       [ 0,  0,  0, 51,  0,  1,  0,  1,  0,  0],\n",
       "       [ 0,  0,  0,  0, 62,  0,  0,  1,  0,  0],\n",
       "       [ 0,  0,  0,  0,  0, 61,  0,  0,  0,  0],\n",
       "       [ 0,  1,  0,  0,  0,  0, 55,  0,  0,  0],\n",
       "       [ 0,  0,  0,  0,  0,  0,  0, 61,  0,  0],\n",
       "       [ 0,  2,  1,  0,  0,  0,  0,  0, 38,  0],\n",
       "       [ 0,  1,  0,  2,  0,  3,  0,  0,  0, 45]], dtype=int64)"
      ]
     },
     "execution_count": 11,
     "metadata": {},
     "output_type": "execute_result"
    }
   ],
   "source": [
    "confusion = confusion_matrix(y_true=expected, y_pred=predicted)\n",
    "confusion"
   ]
  },
  {
   "cell_type": "code",
   "execution_count": 12,
   "id": "4f4a4a9d",
   "metadata": {},
   "outputs": [
    {
     "name": "stdout",
     "output_type": "stream",
     "text": [
      "              precision    recall  f1-score   support\n",
      "\n",
      "           0       1.00      1.00      1.00        53\n",
      "           1       0.93      1.00      0.97        56\n",
      "           2       0.98      1.00      0.99        45\n",
      "           3       0.96      0.96      0.96        53\n",
      "           4       1.00      0.98      0.99        63\n",
      "           5       0.94      1.00      0.97        61\n",
      "           6       1.00      0.98      0.99        56\n",
      "           7       0.97      1.00      0.98        61\n",
      "           8       1.00      0.93      0.96        41\n",
      "           9       1.00      0.88      0.94        51\n",
      "\n",
      "    accuracy                           0.98       540\n",
      "   macro avg       0.98      0.97      0.98       540\n",
      "weighted avg       0.98      0.98      0.98       540\n",
      "\n"
     ]
    }
   ],
   "source": [
    "names = [str(digit) for digit in df.target_names]\n",
    "print(classification_report(expected, predicted, target_names=names))"
   ]
  },
  {
   "cell_type": "markdown",
   "id": "269da728",
   "metadata": {},
   "source": [
    "Використаємо ще моделі SVC та GaussianNB для пошуку найкращого результату."
   ]
  },
  {
   "cell_type": "code",
   "execution_count": 13,
   "id": "7b34073c",
   "metadata": {},
   "outputs": [
    {
     "data": {
      "text/plain": [
       "GaussianNB()"
      ]
     },
     "execution_count": 13,
     "metadata": {},
     "output_type": "execute_result"
    }
   ],
   "source": [
    "modelSVC = SVC(kernel='linear')\n",
    "modelSVC.fit(X_train, y_train)\n",
    "\n",
    "modelGNB = GaussianNB()\n",
    "modelGNB.fit(X_train, y_train)"
   ]
  },
  {
   "cell_type": "markdown",
   "id": "00d79bde",
   "metadata": {},
   "source": [
    "Порівняємо точність моделей."
   ]
  },
  {
   "cell_type": "code",
   "execution_count": 14,
   "id": "74fcc8de",
   "metadata": {
    "scrolled": true
   },
   "outputs": [
    {
     "name": "stdout",
     "output_type": "stream",
     "text": [
      "Точність моделі KNN: 97.59%\n",
      "Точність моделі GaussianNB: 86.48%\n",
      "Точність моделі SVC: 97.41%\n"
     ]
    }
   ],
   "source": [
    "print(f'Точність моделі KNN: {modelKNN.score(X_test, y_test):.2%}')\n",
    "print(f'Точність моделі GaussianNB: {modelGNB.score(X_test, y_test):.2%}')\n",
    "print(f'Точність моделі SVC: {modelSVC.score(X_test, y_test):.2%}')"
   ]
  },
  {
   "cell_type": "markdown",
   "id": "b1e89e40",
   "metadata": {},
   "source": [
    "Можна зробити висновок, що метод опорних векторів показав себе найточнішою моделлю."
   ]
  },
  {
   "cell_type": "markdown",
   "id": "24721ab4",
   "metadata": {},
   "source": [
    "Поекспериментуємо з гіперпараметром k для пошуку найкращого значення. "
   ]
  },
  {
   "cell_type": "code",
   "execution_count": 15,
   "id": "d5c086fa",
   "metadata": {
    "scrolled": false
   },
   "outputs": [
    {
     "name": "stdout",
     "output_type": "stream",
     "text": [
      "Гіперпараметр К дорівнює 1, точність при цьому: 98.33%\n",
      "Гіперпараметр К дорівнює 2, точність при цьому: 97.96%\n",
      "Гіперпараметр К дорівнює 3, точність при цьому: 98.52%\n",
      "Гіперпараметр К дорівнює 4, точність при цьому: 97.78%\n",
      "Гіперпараметр К дорівнює 5, точність при цьому: 97.59%\n",
      "Гіперпараметр К дорівнює 6, точність при цьому: 97.59%\n",
      "Гіперпараметр К дорівнює 7, точність при цьому: 98.15%\n",
      "Гіперпараметр К дорівнює 8, точність при цьому: 97.59%\n",
      "Гіперпараметр К дорівнює 9, точність при цьому: 98.33%\n",
      "Гіперпараметр К дорівнює 10, точність при цьому: 98.15%\n",
      "Гіперпараметр К дорівнює 11, точність при цьому: 97.59%\n"
     ]
    }
   ],
   "source": [
    "for n in range(1, 12):\n",
    "    modelKNN = KNeighborsClassifier(n_neighbors=n)\n",
    "    modelKNN.fit(X=X_train, y=y_train)\n",
    "    print(f'Гіперпараметр К дорівнює {n}, точність при цьому: {modelKNN.score(X_test, y_test):.2%}')"
   ]
  },
  {
   "cell_type": "markdown",
   "id": "395f9c6a",
   "metadata": {},
   "source": [
    "Найкращим виявився параметр k=3 (за замовчуванням цей параметр дорівнює 5)"
   ]
  },
  {
   "cell_type": "code",
   "execution_count": null,
   "id": "7b4cd597",
   "metadata": {},
   "outputs": [],
   "source": []
  }
 ],
 "metadata": {
  "kernelspec": {
   "display_name": "Python 3 (ipykernel)",
   "language": "python",
   "name": "python3"
  },
  "language_info": {
   "codemirror_mode": {
    "name": "ipython",
    "version": 3
   },
   "file_extension": ".py",
   "mimetype": "text/x-python",
   "name": "python",
   "nbconvert_exporter": "python",
   "pygments_lexer": "ipython3",
   "version": "3.9.13"
  }
 },
 "nbformat": 4,
 "nbformat_minor": 5
}
